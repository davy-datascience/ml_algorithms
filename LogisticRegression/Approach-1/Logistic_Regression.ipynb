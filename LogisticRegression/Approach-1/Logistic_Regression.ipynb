{
  "nbformat": 4,
  "nbformat_minor": 0,
  "metadata": {
    "colab": {
      "name": "Logistic Regression.ipynb",
      "provenance": [],
      "collapsed_sections": []
    },
    "kernelspec": {
      "name": "python3",
      "display_name": "Python 3"
    }
  },
  "cells": [
    {
      "cell_type": "markdown",
      "metadata": {
        "colab_type": "text",
        "id": "view-in-github"
      },
      "source": [
        "<a href=\"https://colab.research.google.com/github/davy-datascience/portfolio/blob/master/LogisticRegression/Approach-1/Logistic_Regression.ipynb\" target=\"_parent\"><img src=\"https://colab.research.google.com/assets/colab-badge.svg\" alt=\"Open In Colab\"/></a>\n"
      ]
    },
    {
      "cell_type": "markdown",
      "metadata": {
        "id": "vk375I6tiTDk",
        "colab_type": "text"
      },
      "source": [
        "# Logistic Regression - Percetron Algorithm"
      ]
    },
    {
      "cell_type": "markdown",
      "metadata": {
        "id": "xZDq-R1xiqFw",
        "colab_type": "text"
      },
      "source": [
        "## Intro"
      ]
    },
    {
      "cell_type": "markdown",
      "metadata": {
        "id": "qQM2tGkMisMU",
        "colab_type": "text"
      },
      "source": [
        "I first tried coding the perceptron algorithm being taught by Luis Serrano. Luis is a very good teacher, he produces youtube videos on data-science subjects with easy-to-understand visualizations. In the first part of his video [Logistic Regression and the Perceptron Algorithm: A friendly introduction](https://www.youtube.com/watch?v=jbluHIgBmBo) he uses the following approach :\n",
        "\n",
        "![percetron algorithm](https://raw.githubusercontent.com/davy-datascience/portfolio/master/LogisticRegression/Approach-1/img/PercetronAlgorithm.png)"
      ]
    },
    {
      "cell_type": "markdown",
      "metadata": {
        "id": "KKavq2_Hhqy-",
        "colab_type": "text"
      },
      "source": [
        "**Note:**\n",
        "\n",
        "The dataset we're using is the Iris dataset, which I simplified.\n",
        "\n",
        "It consists of 2 different types of irises (Setosa and Virginica).\n",
        "\n",
        "The features available are sepal length, sepal width, petal length and petal width.\n",
        "\n",
        "I decided to choose 2 features (sepal length and petal width named respectively sep_long and pet_larg). \n",
        "\n",
        "The variable we are trying to predict is the iris specy. 0 stands for Setosa and 1 for Virginica.\n",
        "\n",
        "The x-axis is related to feature sep_long.\n",
        "\n",
        "The y-axis is related to feature pet_larg.\n",
        "\n",
        "So we are trying to find a line that can separate Setosa irises from Virginica irises."
      ]
    },
    {
      "cell_type": "markdown",
      "metadata": {
        "id": "-FGHscBpPaJt",
        "colab_type": "text"
      },
      "source": [
        "## Implementation"
      ]
    },
    {
      "cell_type": "markdown",
      "metadata": {
        "id": "nysrUb7R7y7B",
        "colab_type": "text"
      },
      "source": [
        "Run the following cell to import all needed modules:"
      ]
    },
    {
      "cell_type": "code",
      "metadata": {
        "id": "iolw3I5X8Cjt",
        "colab_type": "code",
        "colab": {}
      },
      "source": [
        "import numpy as np\n",
        "import matplotlib.pyplot as plt\n",
        "import pandas as pd\n",
        "from sklearn.model_selection import train_test_split\n",
        "from sklearn.metrics import mean_absolute_error\n",
        "import progressbar"
      ],
      "execution_count": 0,
      "outputs": []
    },
    {
      "cell_type": "markdown",
      "metadata": {
        "id": "Z0noe7N5qmTc",
        "colab_type": "text"
      },
      "source": [
        "So, we are trying to find a line that can separate our 2 iris species. The line equation can be written as : ![line equation](https://raw.githubusercontent.com/davy-datascience/portfolio/master/LogisticRegression/Approach-1/img/eq0.png)\n",
        "\n",
        "Run the following cell. It contains the functions that will be used in the program: "
      ]
    },
    {
      "cell_type": "code",
      "metadata": {
        "id": "yHHG0mxtrjQn",
        "colab_type": "code",
        "colab": {}
      },
      "source": [
        "def drawAll(dataset, x_min, x_max, coefs):\n",
        "    \"\"\" plot the points from the dataset and draw the actual Line \"\"\"\n",
        "    datasetTrue = dataset[dataset[\"specy\"] == 1]\n",
        "    datasetFalse = dataset[dataset[\"specy\"] == 0]\n",
        "    \n",
        "    x = np.linspace(x_min,x_max)\n",
        "    y = (-coefs[0] * x - coefs[2]) / coefs[1]\n",
        "    \n",
        "    plt.plot(x, y)\n",
        "    \n",
        "    plt.scatter(datasetFalse[\"sep_long\"], datasetFalse[\"pet_larg\"], color = 'red')\n",
        "    plt.scatter(datasetTrue[\"sep_long\"], datasetTrue[\"pet_larg\"], color = 'green')\n",
        "    plt.show()\n",
        "\n",
        "def transformLine(x, y, categUp, lineCoefs, learning_rate):\n",
        "    \"\"\" According to the random point, update the Line \"\"\"\n",
        "    \n",
        "    # Check if the point is below or above the line\n",
        "    # By reporting the point (x,y) to the equation ax+by+c :\n",
        "    # If ax+by+c > 0 then the point is above the line, else it is below the line\n",
        "    \n",
        "    position = lineCoefs[0] * x + lineCoefs[1] *y + lineCoefs[2]\n",
        "    \n",
        "    # Look if the point is incorrectly classified, if so move the line towards point\n",
        "    if position > 0 and not categUp :\n",
        "        lineCoefs[0] -= x * learning_rate\n",
        "        lineCoefs[1] += y * learning_rate\n",
        "        lineCoefs[2] -= learning_rate\n",
        "    elif position < 0 and categUp : \n",
        "        lineCoefs[0] += x * learning_rate\n",
        "        lineCoefs[1] -= y * learning_rate\n",
        "        lineCoefs[2] += learning_rate        \n",
        "    \n",
        "    return lineCoefs\n",
        "\n",
        "def predict(X, lineCoefs):\n",
        "    \"\"\" I use my model (the equation of the line) to predict which specy a new set of values belongs to  \"\"\"\n",
        "    prediction = []\n",
        "    \n",
        "    a = lineCoefs[0]\n",
        "    b = lineCoefs[1]\n",
        "    c = lineCoefs[2]\n",
        "    \n",
        "    for row in X.iterrows():\n",
        "        x = row[1].loc[\"sep_long\"]\n",
        "        y = row[1].loc[\"pet_larg\"]\n",
        "        \n",
        "        # The result of the equation ax + by+ c = 0 tells if the point is in category 1 (positive) or category 0 (negative)\n",
        "        position = a * x + b * y + c\n",
        "        prediction.append(position > 0)\n",
        "\n",
        "    return pd.DataFrame(prediction, index= X.index)"
      ],
      "execution_count": 0,
      "outputs": []
    },
    {
      "cell_type": "markdown",
      "metadata": {
        "colab_type": "text",
        "id": "1QR3u5OKU4s2"
      },
      "source": [
        "Run the following cell to launch the logistic regression program:"
      ]
    },
    {
      "cell_type": "code",
      "metadata": {
        "id": "rsbPy-vmU_Fx",
        "colab_type": "code",
        "colab": {}
      },
      "source": [
        "# Set the learning rate and the number of iterations\n",
        "learning_rate = 0.01\n",
        "nb_epochs = 1000\n",
        "\n",
        "# Read the data\n",
        "dataset = pd.read_csv(\"https://raw.githubusercontent.com/davy-datascience/portfolio/master/LogisticRegression/Approach-1/dataset/dataset.csv\", index_col='id')\n",
        "\n",
        "# Separate the dataset into a training set and a test set\n",
        "train, test = train_test_split(dataset, test_size = 0.2)\n",
        "\n",
        "# Look for the point with the maximum and minimum value of x in the dataset to see the range of x values\n",
        "# Find the point with the maximum value of x in the dataset\n",
        "idx_max = train[\"sep_long\"].idxmax()\n",
        "x_max = train.loc[idx_max][\"sep_long\"]\n",
        "\n",
        "# Find the point with the minimum value of x in the dataset\n",
        "idx_min = train[\"sep_long\"].idxmin()\n",
        "x_min = train.loc[idx_min][\"sep_long\"]\n",
        "\n",
        "# Begin with the line y = 0\n",
        "lineCoefs = [0, 1, 0]\n",
        "\n",
        "drawAll(train, x_min, x_max, lineCoefs)\n",
        "\n",
        "# Iterate choosing a random point and moving the line with the function transformLine\n",
        "for i in progressbar.progressbar(range(nb_epochs)):\n",
        "    sample = train.sample()\n",
        "    sepL = sample.iloc[0].sep_long\n",
        "    petL = sample.iloc[0].pet_larg\n",
        "    categUp = sample.iloc[0].specy\n",
        "    lineCoefs = transformLine(sepL, petL, categUp, lineCoefs, learning_rate)\n",
        "    #drawAll(train, x_min, x_max, lineCoefs)  # Uncomment this line to see the line at each iteration\n",
        "\n",
        "drawAll(train, x_min, x_max, lineCoefs)\n",
        "\n",
        "# Predict the test set with my model and print the mae\n",
        "y_pred = predict(test, lineCoefs)\n",
        "print(\"MAE : {}\".format(mean_absolute_error(y_pred, test.specy)))"
      ],
      "execution_count": 0,
      "outputs": []
    }
  ]
}
